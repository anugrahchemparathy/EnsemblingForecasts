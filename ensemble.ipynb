{
 "cells": [
  {
   "cell_type": "code",
   "execution_count": 133,
   "metadata": {},
   "outputs": [],
   "source": [
    "import numpy as np\n",
    "import matplotlib.pyplot as plt\n",
    "import seaborn as sns\n",
    "from sklearn.linear_model import LinearRegression"
   ]
  },
  {
   "cell_type": "code",
   "execution_count": 244,
   "metadata": {},
   "outputs": [],
   "source": [
    "import pandas as pd\n",
    "def binbinplot(y1, y2, bins = 100, \n",
    "               ax = None, title = None,\n",
    "               xlabel=None, ylabel=None):\n",
    "    df = pd.DataFrame({'y1': y1, 'y2': y2})\n",
    "    df['bin'] = pd.qcut(df['y1'], bins)\n",
    "    bin_y1 = df.groupby('bin', observed=True)['y1'].mean()\n",
    "    bin_y2 = df.groupby('bin', observed=True)['y2'].mean()\n",
    "\n",
    "    if xlabel is not None:\n",
    "        ax.set_xlabel(xlabel)\n",
    "    if ylabel is not None:\n",
    "        ax.set_ylabel(ylabel)\n",
    "\n",
    "\n",
    "    ax.scatter(bin_y1, bin_y2, alpha = 0.8)"
   ]
  },
  {
   "cell_type": "code",
   "execution_count": 245,
   "metadata": {},
   "outputs": [],
   "source": [
    "def generate_data(n_samples, target_cm, random_state, vis_cm = False):\n",
    "    rng = np.random.default_rng(random_state)\n",
    "    n_features, _ = target_cm.shape\n",
    "\n",
    "    # use the cholesky decomposition to get target_cm = L @ L.T\n",
    "    L = np.linalg.cholesky(target_cm)\n",
    "\n",
    "\n",
    "    # generate the data using L to produce the desired correlations\n",
    "    Z = rng.normal(size=(n_samples, n_features))\n",
    "    data = Z @ L.T\n",
    "\n",
    "    empirical_cm = np.corrcoef(data, rowvar=False)\n",
    "    if vis_cm:\n",
    "        sns.heatmap(empirical_cm, annot=True)\n",
    "\n",
    "    print(f\"data std dev:\", data.std(axis = 0))\n",
    "\n",
    "    return data"
   ]
  },
  {
   "cell_type": "code",
   "execution_count": 246,
   "metadata": {},
   "outputs": [],
   "source": [
    "def generate_cm(feature_feature_corr, feature_target_corr):\n",
    "    R = np.full((11, 11), feature_feature_corr)\n",
    "    np.fill_diagonal(R, 1.0)\n",
    "    R[-1, :-1] = feature_target_corr\n",
    "    R[:-1, -1] = feature_target_corr\n",
    "\n",
    "    return R"
   ]
  },
  {
   "cell_type": "code",
   "execution_count": 281,
   "metadata": {},
   "outputs": [],
   "source": [
    "def run_fit(data, model, suppress_output = False):\n",
    "    features = data[:, :10]\n",
    "    target = data[:, 10]\n",
    "\n",
    "    num_train = int(0.5 * len(features))\n",
    "    train_X, train_y = features[:num_train], target[:num_train]\n",
    "    test_X, test_y = features[num_train:], target[num_train:]\n",
    "\n",
    "    \n",
    "    model.fit(train_X, train_y)\n",
    "    if not suppress_output:\n",
    "        print(f\"model.coef_ = {model.coef_}\")\n",
    "\n",
    "    train_y_pred = model.predict(train_X)\n",
    "    train_R2 = model.score(train_X, train_y)\n",
    "\n",
    "    test_y_pred = model.predict(test_X)\n",
    "    test_R2 = model.score(test_X, test_y)\n",
    "\n",
    "\n",
    "    if not suppress_output:\n",
    "        fig, axs = plt.subplots(1,1, figsize=(8,6))\n",
    "        axs.grid()\n",
    "        axs.set_title(f'Train R2: {train_R2:.4f}, Test R2: {test_R2:.4f}')\n",
    "        binbinplot(train_y_pred, \n",
    "                train_y,\n",
    "                ax = axs,\n",
    "                bins = 20,\n",
    "                xlabel = 'y_pred', ylabel = 'y_true')\n",
    "        binbinplot(test_y_pred, \n",
    "                test_y,\n",
    "                ax = axs,\n",
    "                bins = 20,\n",
    "                xlabel = 'y_pred', ylabel = 'y_true')\n",
    "        \n",
    "        axs.legend(['train', 'test'])\n",
    "    \n",
    "    return train_R2, test_R2"
   ]
  },
  {
   "cell_type": "code",
   "execution_count": 283,
   "metadata": {},
   "outputs": [
    {
     "name": "stdout",
     "output_type": "stream",
     "text": [
      "data std dev: [0.97294611 0.95706464 1.00621503 1.00540937 0.86167401 0.95336207\n",
      " 1.08328342 0.97122062 0.86490458 1.10226815 0.9065881 ]\n"
     ]
    }
   ],
   "source": [
    "R = generate_cm(0.05, 0.1)\n",
    "modify = [(0, 10, 0.01), (1, 10, 0.01), \n",
    "          (0, 1, 0.9)]\n",
    "\n",
    "for i in range(0, 6, 2):\n",
    "    j = i + 1\n",
    "    modify.append((i, 10, 0.01))\n",
    "    modify.append((j, 10, 0.01))\n",
    "    modify.append((i, j, 0.9))\n",
    "\n",
    "for i, j, corr in modify:\n",
    "    R[i, j] = R[j, i] = corr\n",
    "\n",
    "# data = generate_data(100, R, 0, vis_cm=True)\n",
    "data = generate_data(100, R, 0)\n",
    "\n",
    "\n",
    "basic_ols_train = []\n",
    "basic_ols_test = []\n",
    "nonnegative_ols_train = []\n",
    "nonnegative_ols_test = []\n",
    "for i in range(100):\n",
    "    model = LinearRegression(fit_intercept = False)\n",
    "    train_r2, test_r2 = run_fit(data, model, suppress_output=True)\n",
    "    basic_ols_train.append(train_r2)\n",
    "    basic_ols_test.append(test_r2)\n",
    "\n",
    "    model = LinearRegression(fit_intercept = False, positive=True)\n",
    "    train_r2, test_r2 = run_fit(data, model, suppress_output=True)\n",
    "    nonnegative_ols_train.append(train_r2)\n",
    "    nonnegative_ols_test.append(test_r2)"
   ]
  },
  {
   "cell_type": "code",
   "execution_count": 284,
   "metadata": {},
   "outputs": [
    {
     "name": "stdout",
     "output_type": "stream",
     "text": [
      "mean basic train = 0.1711, test = -0.0939 \n",
      "mean nonnegative train = 0.1049, test = 0.0850 \n"
     ]
    }
   ],
   "source": [
    "mean_basic_ols_trainR2 = np.mean(basic_ols_train)\n",
    "mean_basic_ols_testR2 = np.mean(basic_ols_test)\n",
    "mean_nonnegative_ols_trainR2 = np.mean(nonnegative_ols_train)\n",
    "mean_nonnegative_ols_testR2 = np.mean(nonnegative_ols_test)\n",
    "\n",
    "print(f\"mean basic train = {mean_basic_ols_trainR2:.4f}, test = {mean_basic_ols_testR2:.4f} \")\n",
    "print(f\"mean nonnegative train = {mean_nonnegative_ols_trainR2:.4f}, test = {mean_nonnegative_ols_testR2:.4f} \")"
   ]
  },
  {
   "cell_type": "code",
   "execution_count": 285,
   "metadata": {},
   "outputs": [
    {
     "name": "stdout",
     "output_type": "stream",
     "text": [
      "data std dev: [0.97294611 0.92001084 1.0077727  1.04581739 0.87274427 1.04742683\n",
      " 1.09079978 0.97570129 0.86699314 1.10366331 0.91099224]\n",
      "model.coef_ = [ 0.08035513 -0.13240561  0.28708718 -0.07711969  0.13183961 -0.03225352\n",
      "  0.03152573  0.14468608  0.1823427   0.1367175 ]\n"
     ]
    },
    {
     "data": {
      "text/plain": [
       "(0.18135639853161734, -0.009730720017687489)"
      ]
     },
     "execution_count": 285,
     "metadata": {},
     "output_type": "execute_result"
    },
    {
     "data": {
      "image/png": "[encoded data removed]",
      "text/plain": [
       "<Figure size 800x600 with 1 Axes>"
      ]
     },
     "metadata": {},
     "output_type": "display_data"
    }
   ],
   "source": [
    "\"\"\"\n",
    "In case you wanted to see what it looks like without such large intercorrelations\n",
    "\"\"\"\n",
    "R = generate_cm(0.05, 0.1)\n",
    "modify = []\n",
    "for i, j, corr in modify:\n",
    "    R[i, j] = R[j, i] = corr\n",
    "\n",
    "data = generate_data(100, R, 0, vis_cm = False)\n",
    "model = LinearRegression(fit_intercept = False)\n",
    "run_fit(data, model, suppress_output=False)"
   ]
  },
  {
   "cell_type": "code",
   "execution_count": null,
   "metadata": {},
   "outputs": [],
   "source": []
  }
 ],
 "metadata": {
  "kernelspec": {
   "display_name": "torch_base",
   "language": "python",
   "name": "python3"
  },
  "language_info": {
   "codemirror_mode": {
    "name": "ipython",
    "version": 3
   },
   "file_extension": ".py",
   "mimetype": "text/x-python",
   "name": "python",
   "nbconvert_exporter": "python",
   "pygments_lexer": "ipython3",
   "version": "3.12.7"
  }
 },
 "nbformat": 4,
 "nbformat_minor": 2
}
